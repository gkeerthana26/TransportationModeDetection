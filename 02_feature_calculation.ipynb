{
 "cells": [
  {
   "cell_type": "markdown",
   "id": "ff133abd",
   "metadata": {},
   "source": [
    "## <CENTER><U> 1. IMPORTING BASIC NECESSARY PACKAGES</U></CENTER>"
   ]
  },
  {
   "cell_type": "code",
   "execution_count": 1,
   "id": "d92ee19b",
   "metadata": {},
   "outputs": [
    {
     "name": "stdout",
     "output_type": "stream",
     "text": [
      "Requirement already satisfied: geopy in /Users/djmac/opt/anaconda3/lib/python3.9/site-packages (2.2.0)\n",
      "Requirement already satisfied: geographiclib<2,>=1.49 in /Users/djmac/opt/anaconda3/lib/python3.9/site-packages (from geopy) (1.52)\n",
      "Note: you may need to restart the kernel to use updated packages.\n"
     ]
    }
   ],
   "source": [
    "pip install geopy"
   ]
  },
  {
   "cell_type": "code",
   "execution_count": 1,
   "id": "ce796bbc",
   "metadata": {},
   "outputs": [],
   "source": [
    "import pandas as pd\n",
    "import time\n",
    "from geopy.distance import geodesic"
   ]
  },
  {
   "cell_type": "markdown",
   "id": "b2b3deef",
   "metadata": {},
   "source": [
    "## <CENTER><U> 2. READING INPUT DATA </CENTER></U>"
   ]
  },
  {
   "cell_type": "code",
   "execution_count": 10,
   "id": "a2209427",
   "metadata": {},
   "outputs": [],
   "source": [
    "data = pd.read_csv(\"trajectory_data.csv\")"
   ]
  },
  {
   "cell_type": "code",
   "execution_count": 11,
   "id": "74a8e7ab",
   "metadata": {
    "scrolled": true
   },
   "outputs": [
    {
     "data": {
      "text/plain": [
       "People_Num             0\n",
       "Time                   0\n",
       "Travel Start Time      0\n",
       "Travel End Time        0\n",
       "Lat                    0\n",
       "Lon                    0\n",
       "Alt                    0\n",
       "Transportation Mode    0\n",
       "dtype: int64"
      ]
     },
     "execution_count": 11,
     "metadata": {},
     "output_type": "execute_result"
    }
   ],
   "source": [
    "data.isnull().sum()"
   ]
  },
  {
   "cell_type": "code",
   "execution_count": 12,
   "id": "9940b2b9",
   "metadata": {},
   "outputs": [
    {
     "data": {
      "text/plain": [
       "41046"
      ]
     },
     "execution_count": 12,
     "metadata": {},
     "output_type": "execute_result"
    }
   ],
   "source": [
    "data.duplicated().sum()"
   ]
  },
  {
   "cell_type": "code",
   "execution_count": 13,
   "id": "8ee2fe63",
   "metadata": {},
   "outputs": [
    {
     "data": {
      "text/plain": [
       "0"
      ]
     },
     "execution_count": 13,
     "metadata": {},
     "output_type": "execute_result"
    }
   ],
   "source": [
    "data = data.drop_duplicates(keep='last').reset_index(drop=True)\n",
    "data.duplicated().sum()"
   ]
  },
  {
   "cell_type": "code",
   "execution_count": 14,
   "id": "b6259009",
   "metadata": {},
   "outputs": [
    {
     "data": {
      "text/html": [
       "<div>\n",
       "<style scoped>\n",
       "    .dataframe tbody tr th:only-of-type {\n",
       "        vertical-align: middle;\n",
       "    }\n",
       "\n",
       "    .dataframe tbody tr th {\n",
       "        vertical-align: top;\n",
       "    }\n",
       "\n",
       "    .dataframe thead th {\n",
       "        text-align: right;\n",
       "    }\n",
       "</style>\n",
       "<table border=\"1\" class=\"dataframe\">\n",
       "  <thead>\n",
       "    <tr style=\"text-align: right;\">\n",
       "      <th></th>\n",
       "      <th>People_Num</th>\n",
       "      <th>Time</th>\n",
       "      <th>Travel Start Time</th>\n",
       "      <th>Travel End Time</th>\n",
       "      <th>Lat</th>\n",
       "      <th>Lon</th>\n",
       "      <th>Alt</th>\n",
       "      <th>Transportation Mode</th>\n",
       "    </tr>\n",
       "  </thead>\n",
       "  <tbody>\n",
       "    <tr>\n",
       "      <th>0</th>\n",
       "      <td>104</td>\n",
       "      <td>2008-03-28 08:44:30</td>\n",
       "      <td>2008-03-28 08:42:00</td>\n",
       "      <td>2008-03-28 09:50:00</td>\n",
       "      <td>39.962098</td>\n",
       "      <td>116.301595</td>\n",
       "      <td>0.0</td>\n",
       "      <td>bus</td>\n",
       "    </tr>\n",
       "    <tr>\n",
       "      <th>1</th>\n",
       "      <td>104</td>\n",
       "      <td>2008-03-28 08:48:30</td>\n",
       "      <td>2008-03-28 08:42:00</td>\n",
       "      <td>2008-03-28 09:50:00</td>\n",
       "      <td>39.948270</td>\n",
       "      <td>116.303298</td>\n",
       "      <td>0.0</td>\n",
       "      <td>bus</td>\n",
       "    </tr>\n",
       "    <tr>\n",
       "      <th>2</th>\n",
       "      <td>104</td>\n",
       "      <td>2008-03-28 08:48:33</td>\n",
       "      <td>2008-03-28 08:42:00</td>\n",
       "      <td>2008-03-28 09:50:00</td>\n",
       "      <td>39.948220</td>\n",
       "      <td>116.303337</td>\n",
       "      <td>0.0</td>\n",
       "      <td>bus</td>\n",
       "    </tr>\n",
       "    <tr>\n",
       "      <th>3</th>\n",
       "      <td>104</td>\n",
       "      <td>2008-03-28 08:48:39</td>\n",
       "      <td>2008-03-28 08:42:00</td>\n",
       "      <td>2008-03-28 09:50:00</td>\n",
       "      <td>39.948120</td>\n",
       "      <td>116.303378</td>\n",
       "      <td>0.0</td>\n",
       "      <td>bus</td>\n",
       "    </tr>\n",
       "    <tr>\n",
       "      <th>4</th>\n",
       "      <td>104</td>\n",
       "      <td>2008-03-28 08:48:42</td>\n",
       "      <td>2008-03-28 08:42:00</td>\n",
       "      <td>2008-03-28 09:50:00</td>\n",
       "      <td>39.948110</td>\n",
       "      <td>116.303418</td>\n",
       "      <td>0.0</td>\n",
       "      <td>bus</td>\n",
       "    </tr>\n",
       "    <tr>\n",
       "      <th>5</th>\n",
       "      <td>104</td>\n",
       "      <td>2008-03-28 08:48:48</td>\n",
       "      <td>2008-03-28 08:42:00</td>\n",
       "      <td>2008-03-28 09:50:00</td>\n",
       "      <td>39.947997</td>\n",
       "      <td>116.303410</td>\n",
       "      <td>0.0</td>\n",
       "      <td>bus</td>\n",
       "    </tr>\n",
       "    <tr>\n",
       "      <th>6</th>\n",
       "      <td>104</td>\n",
       "      <td>2008-03-28 08:48:53</td>\n",
       "      <td>2008-03-28 08:42:00</td>\n",
       "      <td>2008-03-28 09:50:00</td>\n",
       "      <td>39.947952</td>\n",
       "      <td>116.303377</td>\n",
       "      <td>0.0</td>\n",
       "      <td>bus</td>\n",
       "    </tr>\n",
       "    <tr>\n",
       "      <th>7</th>\n",
       "      <td>104</td>\n",
       "      <td>2008-03-28 08:48:58</td>\n",
       "      <td>2008-03-28 08:42:00</td>\n",
       "      <td>2008-03-28 09:50:00</td>\n",
       "      <td>39.947902</td>\n",
       "      <td>116.303405</td>\n",
       "      <td>0.0</td>\n",
       "      <td>bus</td>\n",
       "    </tr>\n",
       "    <tr>\n",
       "      <th>8</th>\n",
       "      <td>104</td>\n",
       "      <td>2008-03-28 08:49:03</td>\n",
       "      <td>2008-03-28 08:42:00</td>\n",
       "      <td>2008-03-28 09:50:00</td>\n",
       "      <td>39.947767</td>\n",
       "      <td>116.303465</td>\n",
       "      <td>0.0</td>\n",
       "      <td>bus</td>\n",
       "    </tr>\n",
       "    <tr>\n",
       "      <th>9</th>\n",
       "      <td>104</td>\n",
       "      <td>2008-03-28 08:49:14</td>\n",
       "      <td>2008-03-28 08:42:00</td>\n",
       "      <td>2008-03-28 09:50:00</td>\n",
       "      <td>39.947393</td>\n",
       "      <td>116.303697</td>\n",
       "      <td>0.0</td>\n",
       "      <td>bus</td>\n",
       "    </tr>\n",
       "  </tbody>\n",
       "</table>\n",
       "</div>"
      ],
      "text/plain": [
       "   People_Num                 Time    Travel Start Time      Travel End Time  \\\n",
       "0         104  2008-03-28 08:44:30  2008-03-28 08:42:00  2008-03-28 09:50:00   \n",
       "1         104  2008-03-28 08:48:30  2008-03-28 08:42:00  2008-03-28 09:50:00   \n",
       "2         104  2008-03-28 08:48:33  2008-03-28 08:42:00  2008-03-28 09:50:00   \n",
       "3         104  2008-03-28 08:48:39  2008-03-28 08:42:00  2008-03-28 09:50:00   \n",
       "4         104  2008-03-28 08:48:42  2008-03-28 08:42:00  2008-03-28 09:50:00   \n",
       "5         104  2008-03-28 08:48:48  2008-03-28 08:42:00  2008-03-28 09:50:00   \n",
       "6         104  2008-03-28 08:48:53  2008-03-28 08:42:00  2008-03-28 09:50:00   \n",
       "7         104  2008-03-28 08:48:58  2008-03-28 08:42:00  2008-03-28 09:50:00   \n",
       "8         104  2008-03-28 08:49:03  2008-03-28 08:42:00  2008-03-28 09:50:00   \n",
       "9         104  2008-03-28 08:49:14  2008-03-28 08:42:00  2008-03-28 09:50:00   \n",
       "\n",
       "         Lat         Lon  Alt Transportation Mode  \n",
       "0  39.962098  116.301595  0.0                 bus  \n",
       "1  39.948270  116.303298  0.0                 bus  \n",
       "2  39.948220  116.303337  0.0                 bus  \n",
       "3  39.948120  116.303378  0.0                 bus  \n",
       "4  39.948110  116.303418  0.0                 bus  \n",
       "5  39.947997  116.303410  0.0                 bus  \n",
       "6  39.947952  116.303377  0.0                 bus  \n",
       "7  39.947902  116.303405  0.0                 bus  \n",
       "8  39.947767  116.303465  0.0                 bus  \n",
       "9  39.947393  116.303697  0.0                 bus  "
      ]
     },
     "metadata": {},
     "output_type": "display_data"
    }
   ],
   "source": [
    "display(data.head(10))"
   ]
  },
  {
   "cell_type": "code",
   "execution_count": 17,
   "id": "a1523096",
   "metadata": {
    "scrolled": true
   },
   "outputs": [
    {
     "data": {
      "text/html": [
       "<div>\n",
       "<style scoped>\n",
       "    .dataframe tbody tr th:only-of-type {\n",
       "        vertical-align: middle;\n",
       "    }\n",
       "\n",
       "    .dataframe tbody tr th {\n",
       "        vertical-align: top;\n",
       "    }\n",
       "\n",
       "    .dataframe thead th {\n",
       "        text-align: right;\n",
       "    }\n",
       "</style>\n",
       "<table border=\"1\" class=\"dataframe\">\n",
       "  <thead>\n",
       "    <tr style=\"text-align: right;\">\n",
       "      <th></th>\n",
       "      <th>People_Num</th>\n",
       "      <th>Time</th>\n",
       "      <th>Travel Start Time</th>\n",
       "      <th>Travel End Time</th>\n",
       "      <th>Lat</th>\n",
       "      <th>Lon</th>\n",
       "      <th>Alt</th>\n",
       "      <th>Transportation Mode</th>\n",
       "    </tr>\n",
       "  </thead>\n",
       "  <tbody>\n",
       "    <tr>\n",
       "      <th>2778049</th>\n",
       "      <td>153</td>\n",
       "      <td>2008-05-02 03:20:38</td>\n",
       "      <td>2008-05-02 03:19:30</td>\n",
       "      <td>2008-05-02 03:21:45</td>\n",
       "      <td>32.973062</td>\n",
       "      <td>114.025615</td>\n",
       "      <td>344.5</td>\n",
       "      <td>taxi</td>\n",
       "    </tr>\n",
       "    <tr>\n",
       "      <th>2778050</th>\n",
       "      <td>153</td>\n",
       "      <td>2008-05-02 03:20:40</td>\n",
       "      <td>2008-05-02 03:19:30</td>\n",
       "      <td>2008-05-02 03:21:45</td>\n",
       "      <td>32.973048</td>\n",
       "      <td>114.025790</td>\n",
       "      <td>344.5</td>\n",
       "      <td>taxi</td>\n",
       "    </tr>\n",
       "    <tr>\n",
       "      <th>2778051</th>\n",
       "      <td>153</td>\n",
       "      <td>2008-05-02 03:20:42</td>\n",
       "      <td>2008-05-02 03:19:30</td>\n",
       "      <td>2008-05-02 03:21:45</td>\n",
       "      <td>32.973038</td>\n",
       "      <td>114.025987</td>\n",
       "      <td>344.5</td>\n",
       "      <td>taxi</td>\n",
       "    </tr>\n",
       "    <tr>\n",
       "      <th>2778052</th>\n",
       "      <td>153</td>\n",
       "      <td>2008-05-02 03:20:44</td>\n",
       "      <td>2008-05-02 03:19:30</td>\n",
       "      <td>2008-05-02 03:21:45</td>\n",
       "      <td>32.973050</td>\n",
       "      <td>114.026210</td>\n",
       "      <td>344.5</td>\n",
       "      <td>taxi</td>\n",
       "    </tr>\n",
       "    <tr>\n",
       "      <th>2778053</th>\n",
       "      <td>153</td>\n",
       "      <td>2008-05-02 03:20:46</td>\n",
       "      <td>2008-05-02 03:19:30</td>\n",
       "      <td>2008-05-02 03:21:45</td>\n",
       "      <td>32.973093</td>\n",
       "      <td>114.026415</td>\n",
       "      <td>344.5</td>\n",
       "      <td>taxi</td>\n",
       "    </tr>\n",
       "    <tr>\n",
       "      <th>2778054</th>\n",
       "      <td>153</td>\n",
       "      <td>2008-05-02 03:20:48</td>\n",
       "      <td>2008-05-02 03:19:30</td>\n",
       "      <td>2008-05-02 03:21:45</td>\n",
       "      <td>32.973130</td>\n",
       "      <td>114.026578</td>\n",
       "      <td>347.8</td>\n",
       "      <td>taxi</td>\n",
       "    </tr>\n",
       "    <tr>\n",
       "      <th>2778055</th>\n",
       "      <td>153</td>\n",
       "      <td>2008-05-02 03:20:50</td>\n",
       "      <td>2008-05-02 03:19:30</td>\n",
       "      <td>2008-05-02 03:21:45</td>\n",
       "      <td>32.973163</td>\n",
       "      <td>114.026742</td>\n",
       "      <td>351.0</td>\n",
       "      <td>taxi</td>\n",
       "    </tr>\n",
       "    <tr>\n",
       "      <th>2778056</th>\n",
       "      <td>153</td>\n",
       "      <td>2008-05-02 03:20:52</td>\n",
       "      <td>2008-05-02 03:19:30</td>\n",
       "      <td>2008-05-02 03:21:45</td>\n",
       "      <td>32.973187</td>\n",
       "      <td>114.026890</td>\n",
       "      <td>354.3</td>\n",
       "      <td>taxi</td>\n",
       "    </tr>\n",
       "    <tr>\n",
       "      <th>2778057</th>\n",
       "      <td>153</td>\n",
       "      <td>2008-05-02 03:20:54</td>\n",
       "      <td>2008-05-02 03:19:30</td>\n",
       "      <td>2008-05-02 03:21:45</td>\n",
       "      <td>32.973197</td>\n",
       "      <td>114.027010</td>\n",
       "      <td>357.6</td>\n",
       "      <td>taxi</td>\n",
       "    </tr>\n",
       "    <tr>\n",
       "      <th>2778058</th>\n",
       "      <td>153</td>\n",
       "      <td>2008-05-02 03:20:56</td>\n",
       "      <td>2008-05-02 03:19:30</td>\n",
       "      <td>2008-05-02 03:21:45</td>\n",
       "      <td>32.973193</td>\n",
       "      <td>114.027120</td>\n",
       "      <td>360.9</td>\n",
       "      <td>taxi</td>\n",
       "    </tr>\n",
       "  </tbody>\n",
       "</table>\n",
       "</div>"
      ],
      "text/plain": [
       "         People_Num                 Time    Travel Start Time  \\\n",
       "2778049         153  2008-05-02 03:20:38  2008-05-02 03:19:30   \n",
       "2778050         153  2008-05-02 03:20:40  2008-05-02 03:19:30   \n",
       "2778051         153  2008-05-02 03:20:42  2008-05-02 03:19:30   \n",
       "2778052         153  2008-05-02 03:20:44  2008-05-02 03:19:30   \n",
       "2778053         153  2008-05-02 03:20:46  2008-05-02 03:19:30   \n",
       "2778054         153  2008-05-02 03:20:48  2008-05-02 03:19:30   \n",
       "2778055         153  2008-05-02 03:20:50  2008-05-02 03:19:30   \n",
       "2778056         153  2008-05-02 03:20:52  2008-05-02 03:19:30   \n",
       "2778057         153  2008-05-02 03:20:54  2008-05-02 03:19:30   \n",
       "2778058         153  2008-05-02 03:20:56  2008-05-02 03:19:30   \n",
       "\n",
       "             Travel End Time        Lat         Lon    Alt Transportation Mode  \n",
       "2778049  2008-05-02 03:21:45  32.973062  114.025615  344.5                taxi  \n",
       "2778050  2008-05-02 03:21:45  32.973048  114.025790  344.5                taxi  \n",
       "2778051  2008-05-02 03:21:45  32.973038  114.025987  344.5                taxi  \n",
       "2778052  2008-05-02 03:21:45  32.973050  114.026210  344.5                taxi  \n",
       "2778053  2008-05-02 03:21:45  32.973093  114.026415  344.5                taxi  \n",
       "2778054  2008-05-02 03:21:45  32.973130  114.026578  347.8                taxi  \n",
       "2778055  2008-05-02 03:21:45  32.973163  114.026742  351.0                taxi  \n",
       "2778056  2008-05-02 03:21:45  32.973187  114.026890  354.3                taxi  \n",
       "2778057  2008-05-02 03:21:45  32.973197  114.027010  357.6                taxi  \n",
       "2778058  2008-05-02 03:21:45  32.973193  114.027120  360.9                taxi  "
      ]
     },
     "metadata": {},
     "output_type": "display_data"
    }
   ],
   "source": [
    "display(data.tail(10))"
   ]
  },
  {
   "cell_type": "code",
   "execution_count": 18,
   "id": "535393c9",
   "metadata": {},
   "outputs": [
    {
     "data": {
      "text/plain": [
       "People_Num               int64\n",
       "Time                    object\n",
       "Travel Start Time       object\n",
       "Travel End Time         object\n",
       "Lat                    float64\n",
       "Lon                    float64\n",
       "Alt                    float64\n",
       "Transportation Mode     object\n",
       "dtype: object"
      ]
     },
     "execution_count": 18,
     "metadata": {},
     "output_type": "execute_result"
    }
   ],
   "source": [
    "data.dtypes"
   ]
  },
  {
   "cell_type": "code",
   "execution_count": 19,
   "id": "6a76d397",
   "metadata": {},
   "outputs": [
    {
     "data": {
      "text/plain": [
       "(2778059, 8)"
      ]
     },
     "execution_count": 19,
     "metadata": {},
     "output_type": "execute_result"
    }
   ],
   "source": [
    "data.shape"
   ]
  },
  {
   "cell_type": "code",
   "execution_count": 20,
   "id": "7af8b529",
   "metadata": {},
   "outputs": [],
   "source": [
    "start_time = time.time()\n",
    "\n",
    "pd.set_option('display.max_columns', None)\n",
    "\n",
    "pd.set_option('display.max_rows', None)\n",
    " \n",
    "travel_count = 1\n",
    "\n",
    "data['Travel Count'] = 1\n",
    "\n",
    "data['Time'] = pd.to_datetime(data['Time'])\n",
    "\n",
    "count = []"
   ]
  },
  {
   "cell_type": "code",
   "execution_count": 21,
   "id": "68171727",
   "metadata": {},
   "outputs": [
    {
     "data": {
      "text/plain": [
       "People_Num                      int64\n",
       "Time                   datetime64[ns]\n",
       "Travel Start Time              object\n",
       "Travel End Time                object\n",
       "Lat                           float64\n",
       "Lon                           float64\n",
       "Alt                           float64\n",
       "Transportation Mode            object\n",
       "Travel Count                    int64\n",
       "dtype: object"
      ]
     },
     "execution_count": 21,
     "metadata": {},
     "output_type": "execute_result"
    }
   ],
   "source": [
    "data.dtypes"
   ]
  },
  {
   "cell_type": "markdown",
   "id": "194850df",
   "metadata": {},
   "source": [
    "## <CENTER><U>3. DATA PRE-PROCESSING "
   ]
  },
  {
   "cell_type": "markdown",
   "id": "f30c6e44",
   "metadata": {},
   "source": [
    "### Remove records which suggest Different modes during same time period"
   ]
  },
  {
   "cell_type": "code",
   "execution_count": 22,
   "id": "f0fadfe5",
   "metadata": {},
   "outputs": [],
   "source": [
    "# For each time point of track data, if it corresponds to multiple modes of transportation, all of them will be deleted\n",
    "\n",
    "for i in range(len(data)-1):\n",
    "\n",
    "    if (data['Time'][i + 1] - data['Time'][i]).seconds == 0:\n",
    "\n",
    "        count.append(i)\n",
    "\n",
    "        count.append(i+1)\n",
    "\n",
    "data = data.drop(count).reset_index(drop=True)\n",
    "\n",
    "count.clear()"
   ]
  },
  {
   "cell_type": "code",
   "execution_count": 23,
   "id": "c72e5238",
   "metadata": {},
   "outputs": [
    {
     "data": {
      "text/plain": [
       "(2441281, 9)"
      ]
     },
     "execution_count": 23,
     "metadata": {},
     "output_type": "execute_result"
    }
   ],
   "source": [
    "data.shape"
   ]
  },
  {
   "cell_type": "markdown",
   "id": "d5e45add",
   "metadata": {},
   "source": [
    "### Remove abnormal latitude and longitude"
   ]
  },
  {
   "cell_type": "code",
   "execution_count": 24,
   "id": "6c2aba87",
   "metadata": {},
   "outputs": [],
   "source": [
    "# Delete data with abnormal latitude and longitude\n",
    "\n",
    "for i in range(len(data)):\n",
    "\n",
    "    if data['Lat'][i] > 90 or data['Lat'][i] < 0 or data['Lon'][i] > 180 or data['Lon'][i] < -180:\n",
    "\n",
    "        count.append(i)\n",
    "\n",
    "data = data.drop(count).reset_index(drop=True)"
   ]
  },
  {
   "cell_type": "code",
   "execution_count": 25,
   "id": "808a9f0c",
   "metadata": {},
   "outputs": [
    {
     "data": {
      "text/plain": [
       "(2441281, 9)"
      ]
     },
     "execution_count": 25,
     "metadata": {},
     "output_type": "execute_result"
    }
   ],
   "source": [
    "data.shape"
   ]
  },
  {
   "cell_type": "markdown",
   "id": "361b500a",
   "metadata": {},
   "source": [
    "### Splitting travel segments"
   ]
  },
  {
   "cell_type": "code",
   "execution_count": 26,
   "id": "00e78bdc",
   "metadata": {},
   "outputs": [],
   "source": [
    "for i in range(len(data)):\n",
    "    data['Travel Count'].at[i] = travel_count   \n",
    "    if (i != len(data)-1):        \n",
    "        if ((data['Travel Start Time'][i] != data['Travel Start Time'][i+1]) or ((data['Time'][i + 1] - data['Time'][i]).seconds > 1800)): \n",
    "                \n",
    "                travel_count = travel_count + 1\n",
    " \n",
    "result = pd.value_counts(data['Travel Count'])"
   ]
  },
  {
   "cell_type": "code",
   "execution_count": 27,
   "id": "95abba56",
   "metadata": {},
   "outputs": [
    {
     "name": "stdout",
     "output_type": "stream",
     "text": [
      "Time taken for processing the data:\t 277.8717129230499\n"
     ]
    }
   ],
   "source": [
    "end_time = time.time()\n",
    " \n",
    "print(f'Time taken for processing the data:\\t {end_time - start_time}')"
   ]
  },
  {
   "cell_type": "markdown",
   "id": "c3c092b5",
   "metadata": {},
   "source": [
    "## <center> <u> 4. ADDITIONAL FEATURE CALCULATION"
   ]
  },
  {
   "cell_type": "code",
   "execution_count": 28,
   "id": "6b0a31c7",
   "metadata": {},
   "outputs": [],
   "source": [
    "time_gap = [] \n",
    "\n",
    "distance_gap = []\n",
    "\n",
    "speed = []\n",
    "\n",
    "acceleration = []\n",
    "\n",
    "total_time = []\n",
    "\n",
    "total_time_count = 0\n",
    "\n",
    "total_distance = []\n",
    "\n",
    "total_distance_count = 0"
   ]
  },
  {
   "cell_type": "code",
   "execution_count": 29,
   "id": "380c8c3a",
   "metadata": {},
   "outputs": [],
   "source": [
    "i = 0\n",
    "count = []\n",
    "for i in range(0,len(data)-1):\n",
    "    if (data['Travel Count'][i] == data['Travel Count'][i+1])  and ((data['Time'][i+1] - data['Time'][i]).seconds < 50):\n",
    "        count.append(i+1)\n",
    "        data['Time'].at[i+1] = data['Time'].at[i]\n",
    "data = data.drop(count).reset_index(drop=True)"
   ]
  },
  {
   "cell_type": "code",
   "execution_count": 30,
   "id": "0b3df290",
   "metadata": {},
   "outputs": [],
   "source": [
    "for i in range(len(data)-1):\n",
    "\n",
    "    if data['Travel Count'][i] == data['Travel Count'][i+1]:\n",
    "        time_gap.append((data['Time'][i + 1] - data['Time'][i]).seconds)\n",
    "        distance_gap.append(geodesic((data['Lat'][i], data['Lon'][i]), (data['Lat'][i + 1], data['Lon'][i + 1])).m)\n",
    "    else:\n",
    "        time_gap.append('N.A')\n",
    "        distance_gap.append('N.A')\n",
    "        \n",
    "time_gap.append('NA')\n",
    "distance_gap.append('N.A')"
   ]
  },
  {
   "cell_type": "code",
   "execution_count": 31,
   "id": "54e4ca3d",
   "metadata": {},
   "outputs": [],
   "source": [
    "for i in range(len(data)-1):\n",
    "\n",
    "    if time_gap[i] != 'N.A':\n",
    "\n",
    "        speed.append(round(distance_gap[i]/time_gap[i], 2))\n",
    "\n",
    "    else:\n",
    "\n",
    "        speed.append('N.A')\n",
    "        \n",
    "speed.append('N.A')"
   ]
  },
  {
   "cell_type": "code",
   "execution_count": 32,
   "id": "6956e873",
   "metadata": {},
   "outputs": [],
   "source": [
    "for i in range(len(data)-1):\n",
    "\n",
    "    if speed[i] != 'N.A' and speed[i+1] != 'N.A':\n",
    "\n",
    "        acceleration.append(round(((speed[i+1]-speed[i])/time_gap[i]), 2))\n",
    "\n",
    "    else:\n",
    "\n",
    "        acceleration.append('N.A')\n",
    " \n",
    "\n",
    "acceleration.append('N.A')"
   ]
  },
  {
   "cell_type": "code",
   "execution_count": 33,
   "id": "b8cf9c39",
   "metadata": {},
   "outputs": [],
   "source": [
    "for i in range(len(data)-1):\n",
    "\n",
    "    if time_gap[i] != 'N.A':\n",
    "\n",
    "        total_time_count = total_time_count + time_gap[i]\n",
    "\n",
    "        total_time.append('N.A')\n",
    "\n",
    "        total_distance_count = total_distance_count + distance_gap[i]\n",
    "\n",
    "        total_distance.append('N.A')\n",
    "\n",
    "    else:\n",
    "\n",
    "        total_time.append(total_time_count)\n",
    "\n",
    "        total_distance.append(total_distance_count)\n",
    "\n",
    "        total_time_count = 0\n",
    "\n",
    "        total_distance_count = 0\n",
    "        \n",
    "total_time.append('N.A')\n",
    "total_distance.append('N.A')"
   ]
  },
  {
   "cell_type": "code",
   "execution_count": 34,
   "id": "8125e7e4",
   "metadata": {},
   "outputs": [],
   "source": [
    "data['Time Gap(s)'] = time_gap\n",
    "\n",
    "data['Distance(m)'] = distance_gap\n",
    "\n",
    "data['Speed(m/s)'] = speed\n",
    "\n",
    "data['Acceleration(m/s^2)'] = acceleration\n",
    "\n",
    "data['Total Time(s)'] = total_time\n",
    "\n",
    "data['Total Distance(m)'] = total_distance"
   ]
  },
  {
   "cell_type": "code",
   "execution_count": 35,
   "id": "8b21e9ab",
   "metadata": {},
   "outputs": [],
   "source": [
    "data.to_csv(\"Data processing/feature_caclculated.csv\")"
   ]
  },
  {
   "cell_type": "code",
   "execution_count": null,
   "id": "9f19eb21",
   "metadata": {},
   "outputs": [],
   "source": []
  }
 ],
 "metadata": {
  "kernelspec": {
   "display_name": "Python 3 (ipykernel)",
   "language": "python",
   "name": "python3"
  },
  "language_info": {
   "codemirror_mode": {
    "name": "ipython",
    "version": 3
   },
   "file_extension": ".py",
   "mimetype": "text/x-python",
   "name": "python",
   "nbconvert_exporter": "python",
   "pygments_lexer": "ipython3",
   "version": "3.9.7"
  }
 },
 "nbformat": 4,
 "nbformat_minor": 5
}
